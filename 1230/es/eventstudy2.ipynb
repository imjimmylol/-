{
 "cells": [
  {
   "cell_type": "markdown",
   "metadata": {},
   "source": [
    "# Import data"
   ]
  },
  {
   "cell_type": "code",
   "execution_count": 1,
   "metadata": {},
   "outputs": [],
   "source": [
    "import pandas as pd\n",
    "import numpy as np\n",
    "import warnings\n",
    "import eventstudy as es\n",
    "from tqdm import tqdm\n",
    "import itertools\n",
    "import eventstudy\n",
    "import matplotlib.pyplot as plt\n",
    "import yfinance as yf\n",
    "warnings.filterwarnings(\"ignore\")"
   ]
  },
  {
   "cell_type": "code",
   "execution_count": 2,
   "metadata": {},
   "outputs": [],
   "source": [
    "# read data\n",
    "cn = pd.read_csv(\"../../1223/data/concentration/2020_20230814.csv\").dropna()\n",
    "q = pd.read_csv(\"../../1223/data/quote/2020_20230814.csv\").dropna()\n",
    "rf = pd.read_csv(\"../../1223/data/rf/rf.csv\").dropna().rename(columns={'日期':'date'})\n",
    "df = pd.merge(q, cn, on=['日期', '股號'], how='left')\n",
    "df = df.groupby('股號').apply(lambda x: x.sort_values('日期')).reset_index(drop=True)"
   ]
  },
  {
   "cell_type": "code",
   "execution_count": 3,
   "metadata": {},
   "outputs": [
    {
     "name": "stdout",
     "output_type": "stream",
     "text": [
      "[*********************100%***********************]  1 of 1 completed\n"
     ]
    }
   ],
   "source": [
    "# get marketret data\n",
    "stock_code = \"^TWII\"\n",
    "\n",
    "start_date = \"2020-01-01\"\n",
    "end_date = \"2023-12-31\" \n",
    "\n",
    "twii_data = yf.download(stock_code, start=start_date, end=end_date)\n",
    "twii_data['date'] =  pd.to_datetime(twii_data.index)\n",
    "twii_data['ret'] = twii_data['Adj Close'].pct_change()"
   ]
  },
  {
   "cell_type": "markdown",
   "metadata": {},
   "source": [
    "# Mutate"
   ]
  },
  {
   "cell_type": "code",
   "execution_count": 4,
   "metadata": {},
   "outputs": [],
   "source": [
    "# mutate col\n",
    "df = pd.merge(q, cn, on=['日期', '股號'], how='left')\n",
    "df = df.groupby('股號').apply(lambda x: x.sort_values('日期')).reset_index(drop=True)\n",
    "\n",
    "\n",
    "# 量起\n",
    "df['成交量_1'] = df.groupby('股號')['成交量'].shift(-1)\n",
    "\n",
    "def divide_two_cols(df_sub):\n",
    "    df_sub['volume_delta_1'] = df_sub['成交量_1'] / df_sub['成交量']\n",
    "    return df_sub\n",
    "\n",
    "df = df.groupby('股號').apply(divide_two_cols)\n",
    "\n",
    "\n",
    "# 價揚\n",
    "# shift 1 假設是成交量出現異常後的下一根進場\n",
    "df['ret'] = df.groupby('股號')['收盤價'].pct_change()\n",
    "df['ret_2'] = df.groupby('股號')['ret'].shift(-1)\n",
    "df = df.dropna()"
   ]
  },
  {
   "cell_type": "markdown",
   "metadata": {},
   "source": [
    "# Prepare Input"
   ]
  },
  {
   "cell_type": "code",
   "execution_count": 5,
   "metadata": {},
   "outputs": [],
   "source": [
    "def create_ret_df(df):\n",
    "\n",
    "    uq_id = df['股號'].unique()\n",
    "    res_by_ticker = []\n",
    "    res = None\n",
    "\n",
    "    for ticker_id in tqdm(uq_id[:len(uq_id)]):\n",
    "        ticker_df = df[df['股號']==ticker_id].reset_index(drop=True)\n",
    "\n",
    "        date = ticker_df['日期'].tolist()\n",
    "        ret = ticker_df['ret'].tolist()\n",
    "\n",
    "        ticker_ret_df = pd.DataFrame(list(zip(date, ret)),\n",
    "               columns =['date', f'{ticker_id}'])\n",
    "        \n",
    "        res_by_ticker.append(ticker_ret_df)\n",
    "    for i in tqdm(range(len(res_by_ticker))):\n",
    "        if i == 0:\n",
    "            res = res_by_ticker[i]\n",
    "\n",
    "        else:\n",
    "            res = pd.merge(res, res_by_ticker[i], how='left', on='date')\n",
    "\n",
    "    return res\n"
   ]
  },
  {
   "cell_type": "code",
   "execution_count": 6,
   "metadata": {},
   "outputs": [
    {
     "name": "stderr",
     "output_type": "stream",
     "text": [
      "100%|██████████| 1350/1350 [03:50<00:00,  5.85it/s]\n",
      "100%|██████████| 1350/1350 [03:56<00:00,  5.70it/s]\n"
     ]
    }
   ],
   "source": [
    "return_df = create_ret_df(df)"
   ]
  },
  {
   "cell_type": "code",
   "execution_count": 7,
   "metadata": {},
   "outputs": [],
   "source": [
    "rf[\"date\"] = pd.to_datetime(rf['date'])\n",
    "return_df[\"date\"] =  pd.to_datetime(return_df[\"date\"])\n",
    "\n",
    "main_df_4analysis = pd.merge(return_df, rf, how='left', on='date')\n",
    "main_df_4analysis = pd.merge(main_df_4analysis, twii_data, how='left', on='date')\n"
   ]
  },
  {
   "cell_type": "code",
   "execution_count": 15,
   "metadata": {},
   "outputs": [
    {
     "name": "stderr",
     "output_type": "stream",
     "text": [
      "100%|██████████| 1350/1350 [00:21<00:00, 62.49it/s] \n"
     ]
    }
   ],
   "source": [
    "# 這行記得\n",
    "uq_id = df['股號'].unique()\n",
    "\n",
    "for tick in tqdm(uq_id[:]):\n",
    "    main_df_4analysis = main_df_4analysis.dropna(subset=[str(tick), 'ret'])\n",
    "    returns_df = main_df_4analysis.iloc[:,[main_df_4analysis.columns.get_loc(c) for c in ['date', f'{tick}']]] \n",
    "    returns_df.to_csv(f'./df/returns_{tick}.csv')"
   ]
  },
  {
   "cell_type": "code",
   "execution_count": 9,
   "metadata": {},
   "outputs": [],
   "source": [
    "# fama df\n",
    "famadf = main_df_4analysis.iloc[:,[main_df_4analysis.columns.get_loc(c) for c in ['date', '收市', 'ret']]].rename(columns={'收市':'RF', 'ret':'MktRt'})\n",
    "famadf['Mkt-RF'] = famadf['MktRt'] - famadf['RF']\n",
    "famadf['SMB'] = 0\n",
    "famadf['HML'] = 0\n",
    "famadf.to_csv('./df/fama.csv')"
   ]
  },
  {
   "cell_type": "markdown",
   "metadata": {},
   "source": [
    "# Event Study"
   ]
  },
  {
   "cell_type": "code",
   "execution_count": 16,
   "metadata": {},
   "outputs": [
    {
     "name": "stderr",
     "output_type": "stream",
     "text": [
      "100%|██████████| 1350/1350 [06:35<00:00,  3.41it/s]\n"
     ]
    }
   ],
   "source": [
    "uq_id = df['股號'].unique()\n",
    "final_res = pd.DataFrame(columns=['AR', 'Std. E. AR', 'CAR', 'Std. E. CAR', 'T-stat', 'P-value',\n",
    "       'evnet_window', 'EventDate', 'symbol'])\n",
    "\n",
    "for tick in tqdm(uq_id[:]):\n",
    "    \n",
    "\n",
    "    es.Single.import_returns(path=f'./df/returns_{tick}.csv')\n",
    "    es.Single.import_FamaFrench(path='./df/fama.csv', date_format = '%Y-%m-%d %H:%M:%S.%f')\n",
    "\n",
    "    # df tick\n",
    "    df_tick = df[df['股號']==tick].reset_index(drop=True)\n",
    "\n",
    "    # get event date\n",
    "    vol_increase_id = df_tick[(df_tick['成交量']>500)&(df_tick['volume_delta_1']>2)].index\n",
    "    event_date = df_tick['日期'][vol_increase_id].to_list()\n",
    "    # print(tick, event_date)\n",
    "\n",
    "    for ed in event_date:\n",
    "        try:\n",
    "            # print(tick, ed)\n",
    "            event = es.Single.FamaFrench_3factor(\n",
    "                security_ticker = str(tick),\n",
    "                event_date = np.datetime64(str(ed)),\n",
    "                event_window = (-2,+10), \n",
    "                estimation_size = 10, # 注意這個\n",
    "                buffer_size = 30,\n",
    "                keep_model=True\n",
    "            )\n",
    "            tick_res = event.results(decimals=[3,5,3,5,2,2])\n",
    "            tick_res['evnet_window'] = tick_res.index\n",
    "            tick_res['EventDate'] =  np.datetime64(ed)\n",
    "            tick_res['symbol'] = tick\n",
    "            tick_res = tick_res.reset_index(drop=True)\n",
    "            final_res = final_res.append(tick_res, ignore_index=True)\n",
    "        except:\n",
    "            continue\n",
    "\n",
    "    # print(final_res)\n",
    "    "
   ]
  },
  {
   "cell_type": "code",
   "execution_count": 17,
   "metadata": {},
   "outputs": [
    {
     "data": {
      "text/html": [
       "<div>\n",
       "<style scoped>\n",
       "    .dataframe tbody tr th:only-of-type {\n",
       "        vertical-align: middle;\n",
       "    }\n",
       "\n",
       "    .dataframe tbody tr th {\n",
       "        vertical-align: top;\n",
       "    }\n",
       "\n",
       "    .dataframe thead th {\n",
       "        text-align: right;\n",
       "    }\n",
       "</style>\n",
       "<table border=\"1\" class=\"dataframe\">\n",
       "  <thead>\n",
       "    <tr style=\"text-align: right;\">\n",
       "      <th></th>\n",
       "      <th>AR</th>\n",
       "      <th>Std. E. AR</th>\n",
       "      <th>CAR</th>\n",
       "      <th>Std. E. CAR</th>\n",
       "      <th>T-stat</th>\n",
       "      <th>P-value</th>\n",
       "      <th>evnet_window</th>\n",
       "      <th>EventDate</th>\n",
       "      <th>symbol</th>\n",
       "    </tr>\n",
       "  </thead>\n",
       "  <tbody>\n",
       "    <tr>\n",
       "      <th>0</th>\n",
       "      <td>-0.045</td>\n",
       "      <td>0.00674</td>\n",
       "      <td>-0.045 ***</td>\n",
       "      <td>0.00674</td>\n",
       "      <td>-6.66</td>\n",
       "      <td>0.0</td>\n",
       "      <td>-2</td>\n",
       "      <td>2020-03-16</td>\n",
       "      <td>1101</td>\n",
       "    </tr>\n",
       "    <tr>\n",
       "      <th>1</th>\n",
       "      <td>-0.027</td>\n",
       "      <td>0.00674</td>\n",
       "      <td>-0.072 ***</td>\n",
       "      <td>0.00953</td>\n",
       "      <td>-7.60</td>\n",
       "      <td>0.0</td>\n",
       "      <td>-1</td>\n",
       "      <td>2020-03-16</td>\n",
       "      <td>1101</td>\n",
       "    </tr>\n",
       "    <tr>\n",
       "      <th>2</th>\n",
       "      <td>-0.052</td>\n",
       "      <td>0.00674</td>\n",
       "      <td>-0.124 ***</td>\n",
       "      <td>0.01167</td>\n",
       "      <td>-10.62</td>\n",
       "      <td>0.0</td>\n",
       "      <td>0</td>\n",
       "      <td>2020-03-16</td>\n",
       "      <td>1101</td>\n",
       "    </tr>\n",
       "    <tr>\n",
       "      <th>3</th>\n",
       "      <td>-0.046</td>\n",
       "      <td>0.00674</td>\n",
       "      <td>-0.17 ***</td>\n",
       "      <td>0.01347</td>\n",
       "      <td>-12.61</td>\n",
       "      <td>0.0</td>\n",
       "      <td>1</td>\n",
       "      <td>2020-03-16</td>\n",
       "      <td>1101</td>\n",
       "    </tr>\n",
       "    <tr>\n",
       "      <th>4</th>\n",
       "      <td>-0.048</td>\n",
       "      <td>0.00674</td>\n",
       "      <td>-0.218 ***</td>\n",
       "      <td>0.01506</td>\n",
       "      <td>-14.49</td>\n",
       "      <td>0.0</td>\n",
       "      <td>2</td>\n",
       "      <td>2020-03-16</td>\n",
       "      <td>1101</td>\n",
       "    </tr>\n",
       "    <tr>\n",
       "      <th>...</th>\n",
       "      <td>...</td>\n",
       "      <td>...</td>\n",
       "      <td>...</td>\n",
       "      <td>...</td>\n",
       "      <td>...</td>\n",
       "      <td>...</td>\n",
       "      <td>...</td>\n",
       "      <td>...</td>\n",
       "      <td>...</td>\n",
       "    </tr>\n",
       "    <tr>\n",
       "      <th>141435</th>\n",
       "      <td>-0.051</td>\n",
       "      <td>0.01583</td>\n",
       "      <td>-0.461 ***</td>\n",
       "      <td>0.04748</td>\n",
       "      <td>-9.70</td>\n",
       "      <td>0.0</td>\n",
       "      <td>6</td>\n",
       "      <td>2023-06-06</td>\n",
       "      <td>2431</td>\n",
       "    </tr>\n",
       "    <tr>\n",
       "      <th>141436</th>\n",
       "      <td>-0.043</td>\n",
       "      <td>0.01583</td>\n",
       "      <td>-0.504 ***</td>\n",
       "      <td>0.05005</td>\n",
       "      <td>-10.07</td>\n",
       "      <td>0.0</td>\n",
       "      <td>7</td>\n",
       "      <td>2023-06-06</td>\n",
       "      <td>2431</td>\n",
       "    </tr>\n",
       "    <tr>\n",
       "      <th>141437</th>\n",
       "      <td>-0.025</td>\n",
       "      <td>0.01583</td>\n",
       "      <td>-0.529 ***</td>\n",
       "      <td>0.05249</td>\n",
       "      <td>-10.08</td>\n",
       "      <td>0.0</td>\n",
       "      <td>8</td>\n",
       "      <td>2023-06-06</td>\n",
       "      <td>2431</td>\n",
       "    </tr>\n",
       "    <tr>\n",
       "      <th>141438</th>\n",
       "      <td>-0.034</td>\n",
       "      <td>0.01583</td>\n",
       "      <td>-0.563 ***</td>\n",
       "      <td>0.05483</td>\n",
       "      <td>-10.27</td>\n",
       "      <td>0.0</td>\n",
       "      <td>9</td>\n",
       "      <td>2023-06-06</td>\n",
       "      <td>2431</td>\n",
       "    </tr>\n",
       "    <tr>\n",
       "      <th>141439</th>\n",
       "      <td>-0.026</td>\n",
       "      <td>0.01583</td>\n",
       "      <td>-0.589 ***</td>\n",
       "      <td>0.05707</td>\n",
       "      <td>-10.33</td>\n",
       "      <td>0.0</td>\n",
       "      <td>10</td>\n",
       "      <td>2023-06-06</td>\n",
       "      <td>2431</td>\n",
       "    </tr>\n",
       "  </tbody>\n",
       "</table>\n",
       "<p>141440 rows × 9 columns</p>\n",
       "</div>"
      ],
      "text/plain": [
       "           AR  Std. E. AR         CAR  Std. E. CAR  T-stat  P-value  \\\n",
       "0      -0.045     0.00674  -0.045 ***      0.00674   -6.66      0.0   \n",
       "1      -0.027     0.00674  -0.072 ***      0.00953   -7.60      0.0   \n",
       "2      -0.052     0.00674  -0.124 ***      0.01167  -10.62      0.0   \n",
       "3      -0.046     0.00674   -0.17 ***      0.01347  -12.61      0.0   \n",
       "4      -0.048     0.00674  -0.218 ***      0.01506  -14.49      0.0   \n",
       "...       ...         ...         ...          ...     ...      ...   \n",
       "141435 -0.051     0.01583  -0.461 ***      0.04748   -9.70      0.0   \n",
       "141436 -0.043     0.01583  -0.504 ***      0.05005  -10.07      0.0   \n",
       "141437 -0.025     0.01583  -0.529 ***      0.05249  -10.08      0.0   \n",
       "141438 -0.034     0.01583  -0.563 ***      0.05483  -10.27      0.0   \n",
       "141439 -0.026     0.01583  -0.589 ***      0.05707  -10.33      0.0   \n",
       "\n",
       "       evnet_window  EventDate symbol  \n",
       "0                -2 2020-03-16   1101  \n",
       "1                -1 2020-03-16   1101  \n",
       "2                 0 2020-03-16   1101  \n",
       "3                 1 2020-03-16   1101  \n",
       "4                 2 2020-03-16   1101  \n",
       "...             ...        ...    ...  \n",
       "141435            6 2023-06-06   2431  \n",
       "141436            7 2023-06-06   2431  \n",
       "141437            8 2023-06-06   2431  \n",
       "141438            9 2023-06-06   2431  \n",
       "141439           10 2023-06-06   2431  \n",
       "\n",
       "[141440 rows x 9 columns]"
      ]
     },
     "execution_count": 17,
     "metadata": {},
     "output_type": "execute_result"
    }
   ],
   "source": [
    "final_res"
   ]
  },
  {
   "cell_type": "code",
   "execution_count": null,
   "metadata": {},
   "outputs": [],
   "source": []
  }
 ],
 "metadata": {
  "kernelspec": {
   "display_name": "sim_search",
   "language": "python",
   "name": "python3"
  },
  "language_info": {
   "codemirror_mode": {
    "name": "ipython",
    "version": 3
   },
   "file_extension": ".py",
   "mimetype": "text/x-python",
   "name": "python",
   "nbconvert_exporter": "python",
   "pygments_lexer": "ipython3",
   "version": "3.7.13"
  }
 },
 "nbformat": 4,
 "nbformat_minor": 2
}
